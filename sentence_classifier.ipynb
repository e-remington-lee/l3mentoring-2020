{
 "metadata": {
  "language_info": {
   "codemirror_mode": {
    "name": "ipython",
    "version": 3
   },
   "file_extension": ".py",
   "mimetype": "text/x-python",
   "name": "python",
   "nbconvert_exporter": "python",
   "pygments_lexer": "ipython3",
   "version": "3.7.7-final"
  },
  "orig_nbformat": 2,
  "kernelspec": {
   "name": "Python 3.7.7 64-bit ('venv')",
   "display_name": "Python 3.7.7 64-bit ('venv')",
   "metadata": {
    "interpreter": {
     "hash": "8710ffc08e7bc82dafd6607f726ddc6e83fa74f0a6cb599995b2b332ab9b1ebc"
    }
   }
  }
 },
 "nbformat": 4,
 "nbformat_minor": 2,
 "cells": [
  {
   "cell_type": "code",
   "execution_count": null,
   "metadata": {},
   "outputs": [],
   "source": [
    "import os\n",
    "import tensorflow as tf\n",
    "import tensorflow_hub as hub\n",
    "from tensorflow.keras.models import Model\n",
    "import numpy\n",
    "import json\n",
    "import bert"
   ]
  },
  {
   "cell_type": "code",
   "execution_count": null,
   "metadata": {
    "tags": []
   },
   "outputs": [],
   "source": [
    "model = tf.saved_model.load(\"./bert_en_uncased_L-12_H-768_A-12_2\")"
   ]
  },
  {
   "cell_type": "code",
   "execution_count": null,
   "metadata": {
    "tags": []
   },
   "outputs": [],
   "source": [
    "# print(model.tensorflow_version)\n",
    "# model.summary()"
   ]
  },
  {
   "cell_type": "code",
   "execution_count": null,
   "metadata": {
    "tags": []
   },
   "outputs": [],
   "source": [
    "class GetData():\n",
    "    def __init__(self):\n",
    "        self.sentence_list = []\n",
    "        self.classification_list = []\n",
    "        self.confidence_list = []\n",
    "\n",
    "    def readData(self, file_path):\n",
    "        with open(file_path, encoding=\"utf8\") as rf:\n",
    "            for line in rf:\n",
    "                jdict = json.loads(line)\n",
    "                sentences = jdict[\"sentences\"]\n",
    "                labels = jdict[\"labels\"]\n",
    "                confidences = jdict[\"confs\"]\n",
    "                for i, x in enumerate(sentences):\n",
    "                    token_sentence = x+\" [SEP]\"\n",
    "                    if i == 0:\n",
    "                        token_sentence = \"[CLS] \"+ token_sentence\n",
    "                    self.sentence_list.append(token_sentence)\n",
    "                for x in labels:\n",
    "                    self.classification_list.append(x)\n",
    "                for x in confidences:\n",
    "                    self.confidence_list.append(x)\n",
    "                break\n",
    "                    \n",
    "\n",
    "train_data = GetData()\n",
    "train_data.readData(\"CSAbstruct/train.jsonl\")\n",
    "\n",
    "dev_data = GetData()\n",
    "dev_data.readData(\"CSAbstruct/dev.jsonl\")\n",
    "\n",
    "test_data = GetData()\n",
    "test_data.readData(\"CSAbstruct/test.jsonl\")"
   ]
  },
  {
   "cell_type": "code",
   "execution_count": null,
   "metadata": {
    "tags": []
   },
   "outputs": [],
   "source": [
    "train_data.sentence_list"
   ]
  },
  {
   "cell_type": "code",
   "execution_count": null,
   "metadata": {},
   "outputs": [],
   "source": []
  }
 ]
}